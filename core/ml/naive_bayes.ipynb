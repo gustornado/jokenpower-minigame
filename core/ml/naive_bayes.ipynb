{
 "cells": [
  {
   "cell_type": "markdown",
   "id": "23d995e4",
   "metadata": {},
   "source": [
    "# Estudo sobre a base do jogo Jokenpower"
   ]
  },
  {
   "cell_type": "code",
   "execution_count": 1,
   "id": "545cab49",
   "metadata": {},
   "outputs": [
    {
     "data": {
      "text/html": [
       "<div>\n",
       "<style scoped>\n",
       "    .dataframe tbody tr th:only-of-type {\n",
       "        vertical-align: middle;\n",
       "    }\n",
       "\n",
       "    .dataframe tbody tr th {\n",
       "        vertical-align: top;\n",
       "    }\n",
       "\n",
       "    .dataframe thead th {\n",
       "        text-align: right;\n",
       "    }\n",
       "</style>\n",
       "<table border=\"1\" class=\"dataframe\">\n",
       "  <thead>\n",
       "    <tr style=\"text-align: right;\">\n",
       "      <th></th>\n",
       "      <th>timestamp</th>\n",
       "      <th>time_since_start</th>\n",
       "      <th>player_type</th>\n",
       "      <th>attack_type</th>\n",
       "      <th>damage</th>\n",
       "      <th>is_counter_attack</th>\n",
       "    </tr>\n",
       "  </thead>\n",
       "  <tbody>\n",
       "    <tr>\n",
       "      <th>0</th>\n",
       "      <td>2022-09-14 23:26:43.497102</td>\n",
       "      <td>3601</td>\n",
       "      <td>Main</td>\n",
       "      <td>Paper</td>\n",
       "      <td>1</td>\n",
       "      <td>False</td>\n",
       "    </tr>\n",
       "    <tr>\n",
       "      <th>1</th>\n",
       "      <td>2022-09-14 23:26:44.379765</td>\n",
       "      <td>4482</td>\n",
       "      <td>Enemy</td>\n",
       "      <td>Paper</td>\n",
       "      <td>1</td>\n",
       "      <td>False</td>\n",
       "    </tr>\n",
       "    <tr>\n",
       "      <th>2</th>\n",
       "      <td>2022-09-14 23:26:45.057001</td>\n",
       "      <td>5160</td>\n",
       "      <td>Main</td>\n",
       "      <td>Paper</td>\n",
       "      <td>1</td>\n",
       "      <td>False</td>\n",
       "    </tr>\n",
       "    <tr>\n",
       "      <th>3</th>\n",
       "      <td>2022-09-14 23:26:46.638571</td>\n",
       "      <td>6742</td>\n",
       "      <td>Main</td>\n",
       "      <td>Paper</td>\n",
       "      <td>1</td>\n",
       "      <td>False</td>\n",
       "    </tr>\n",
       "    <tr>\n",
       "      <th>4</th>\n",
       "      <td>2022-09-14 23:26:47.604161</td>\n",
       "      <td>7708</td>\n",
       "      <td>Enemy</td>\n",
       "      <td>Rock</td>\n",
       "      <td>10</td>\n",
       "      <td>False</td>\n",
       "    </tr>\n",
       "    <tr>\n",
       "      <th>...</th>\n",
       "      <td>...</td>\n",
       "      <td>...</td>\n",
       "      <td>...</td>\n",
       "      <td>...</td>\n",
       "      <td>...</td>\n",
       "      <td>...</td>\n",
       "    </tr>\n",
       "    <tr>\n",
       "      <th>96</th>\n",
       "      <td>2022-09-16 16:39:37.921929</td>\n",
       "      <td>13714</td>\n",
       "      <td>Enemy</td>\n",
       "      <td>Scissors</td>\n",
       "      <td>3</td>\n",
       "      <td>False</td>\n",
       "    </tr>\n",
       "    <tr>\n",
       "      <th>97</th>\n",
       "      <td>2022-09-16 16:39:38.789459</td>\n",
       "      <td>14581</td>\n",
       "      <td>Main</td>\n",
       "      <td>Paper</td>\n",
       "      <td>1</td>\n",
       "      <td>False</td>\n",
       "    </tr>\n",
       "    <tr>\n",
       "      <th>98</th>\n",
       "      <td>2022-09-16 16:39:39.718474</td>\n",
       "      <td>15511</td>\n",
       "      <td>Enemy</td>\n",
       "      <td>Paper</td>\n",
       "      <td>1</td>\n",
       "      <td>False</td>\n",
       "    </tr>\n",
       "    <tr>\n",
       "      <th>99</th>\n",
       "      <td>2022-09-16 16:39:40.876221</td>\n",
       "      <td>16668</td>\n",
       "      <td>Main</td>\n",
       "      <td>Rock</td>\n",
       "      <td>10</td>\n",
       "      <td>False</td>\n",
       "    </tr>\n",
       "    <tr>\n",
       "      <th>100</th>\n",
       "      <td>2022-09-16 16:40:05.594067</td>\n",
       "      <td>4275</td>\n",
       "      <td>Main</td>\n",
       "      <td>Paper</td>\n",
       "      <td>1</td>\n",
       "      <td>False</td>\n",
       "    </tr>\n",
       "  </tbody>\n",
       "</table>\n",
       "<p>101 rows × 6 columns</p>\n",
       "</div>"
      ],
      "text/plain": [
       "                      timestamp  time_since_start player_type attack_type  \\\n",
       "0    2022-09-14 23:26:43.497102              3601        Main       Paper   \n",
       "1    2022-09-14 23:26:44.379765              4482       Enemy       Paper   \n",
       "2    2022-09-14 23:26:45.057001              5160        Main       Paper   \n",
       "3    2022-09-14 23:26:46.638571              6742        Main       Paper   \n",
       "4    2022-09-14 23:26:47.604161              7708       Enemy        Rock   \n",
       "..                          ...               ...         ...         ...   \n",
       "96   2022-09-16 16:39:37.921929             13714       Enemy    Scissors   \n",
       "97   2022-09-16 16:39:38.789459             14581        Main       Paper   \n",
       "98   2022-09-16 16:39:39.718474             15511       Enemy       Paper   \n",
       "99   2022-09-16 16:39:40.876221             16668        Main        Rock   \n",
       "100  2022-09-16 16:40:05.594067              4275        Main       Paper   \n",
       "\n",
       "     damage  is_counter_attack  \n",
       "0         1              False  \n",
       "1         1              False  \n",
       "2         1              False  \n",
       "3         1              False  \n",
       "4        10              False  \n",
       "..      ...                ...  \n",
       "96        3              False  \n",
       "97        1              False  \n",
       "98        1              False  \n",
       "99       10              False  \n",
       "100       1              False  \n",
       "\n",
       "[101 rows x 6 columns]"
      ]
     },
     "execution_count": 1,
     "metadata": {},
     "output_type": "execute_result"
    }
   ],
   "source": [
    "import numpy as np\n",
    "import pandas as pd\n",
    "\n",
    "df = pd.read_csv('attacks_pattern.csv')\n",
    "df"
   ]
  },
  {
   "cell_type": "markdown",
   "id": "f0d554d7",
   "metadata": {},
   "source": [
    "## Tratamento de dados"
   ]
  },
  {
   "cell_type": "code",
   "execution_count": 2,
   "id": "366034f0",
   "metadata": {},
   "outputs": [],
   "source": [
    "# Parsear string timestamp para Tipo Timestamp do pandas\n",
    "df['timestamp'] = pd.to_datetime(df['timestamp'], infer_datetime_format=True)"
   ]
  },
  {
   "cell_type": "code",
   "execution_count": 3,
   "id": "560a1719",
   "metadata": {},
   "outputs": [],
   "source": [
    "# Criar campo com diferença de tempo entre ataques\n",
    "df['time_diff'] = df['timestamp'].diff().dt.total_seconds()"
   ]
  },
  {
   "cell_type": "code",
   "execution_count": 4,
   "id": "a48dfe0a",
   "metadata": {
    "scrolled": true
   },
   "outputs": [],
   "source": [
    "# Definir início de partida: quando próximo time_since_start for menor que anterior\n",
    "df.loc[df['time_since_start'].diff() < 0, 'time_diff'] = np.nan"
   ]
  },
  {
   "cell_type": "code",
   "execution_count": 5,
   "id": "22c1e2bb",
   "metadata": {},
   "outputs": [],
   "source": [
    "# Deletar NaN da tabela\n",
    "df.dropna(inplace=True)"
   ]
  },
  {
   "cell_type": "code",
   "execution_count": 6,
   "id": "d8cbe41e",
   "metadata": {},
   "outputs": [],
   "source": [
    "# Normalizando diferença de tempo entre ataques\n",
    "df['label_time_diff'] = df['time_diff'].apply(lambda x: int(x*10))"
   ]
  },
  {
   "cell_type": "code",
   "execution_count": 7,
   "id": "acd9a97a",
   "metadata": {},
   "outputs": [],
   "source": [
    "# Normalizando valores qualitativos para quantitativos\n",
    "\n",
    "def get_norm_attack_type(atk: str):\n",
    "    result = 99\n",
    "    if atk == 'Rock':\n",
    "        result = 0\n",
    "    elif atk == 'Paper':\n",
    "        result = 1\n",
    "    elif atk == 'Scissors':\n",
    "        result = 2\n",
    "    return result\n",
    "\n",
    "df['label_attack_type'] = df['attack_type'].apply(get_norm_attack_type)"
   ]
  },
  {
   "cell_type": "code",
   "execution_count": 8,
   "id": "9251e075",
   "metadata": {},
   "outputs": [
    {
     "data": {
      "text/html": [
       "<div>\n",
       "<style scoped>\n",
       "    .dataframe tbody tr th:only-of-type {\n",
       "        vertical-align: middle;\n",
       "    }\n",
       "\n",
       "    .dataframe tbody tr th {\n",
       "        vertical-align: top;\n",
       "    }\n",
       "\n",
       "    .dataframe thead th {\n",
       "        text-align: right;\n",
       "    }\n",
       "</style>\n",
       "<table border=\"1\" class=\"dataframe\">\n",
       "  <thead>\n",
       "    <tr style=\"text-align: right;\">\n",
       "      <th></th>\n",
       "      <th>timestamp</th>\n",
       "      <th>time_since_start</th>\n",
       "      <th>player_type</th>\n",
       "      <th>attack_type</th>\n",
       "      <th>damage</th>\n",
       "      <th>is_counter_attack</th>\n",
       "      <th>time_diff</th>\n",
       "      <th>label_time_diff</th>\n",
       "      <th>label_attack_type</th>\n",
       "    </tr>\n",
       "  </thead>\n",
       "  <tbody>\n",
       "    <tr>\n",
       "      <th>1</th>\n",
       "      <td>2022-09-14 23:26:44.379765</td>\n",
       "      <td>4482</td>\n",
       "      <td>Enemy</td>\n",
       "      <td>Paper</td>\n",
       "      <td>1</td>\n",
       "      <td>False</td>\n",
       "      <td>0.882663</td>\n",
       "      <td>8</td>\n",
       "      <td>1</td>\n",
       "    </tr>\n",
       "    <tr>\n",
       "      <th>2</th>\n",
       "      <td>2022-09-14 23:26:45.057001</td>\n",
       "      <td>5160</td>\n",
       "      <td>Main</td>\n",
       "      <td>Paper</td>\n",
       "      <td>1</td>\n",
       "      <td>False</td>\n",
       "      <td>0.677236</td>\n",
       "      <td>6</td>\n",
       "      <td>1</td>\n",
       "    </tr>\n",
       "    <tr>\n",
       "      <th>3</th>\n",
       "      <td>2022-09-14 23:26:46.638571</td>\n",
       "      <td>6742</td>\n",
       "      <td>Main</td>\n",
       "      <td>Paper</td>\n",
       "      <td>1</td>\n",
       "      <td>False</td>\n",
       "      <td>1.581570</td>\n",
       "      <td>15</td>\n",
       "      <td>1</td>\n",
       "    </tr>\n",
       "    <tr>\n",
       "      <th>4</th>\n",
       "      <td>2022-09-14 23:26:47.604161</td>\n",
       "      <td>7708</td>\n",
       "      <td>Enemy</td>\n",
       "      <td>Rock</td>\n",
       "      <td>10</td>\n",
       "      <td>False</td>\n",
       "      <td>0.965590</td>\n",
       "      <td>9</td>\n",
       "      <td>0</td>\n",
       "    </tr>\n",
       "    <tr>\n",
       "      <th>5</th>\n",
       "      <td>2022-09-14 23:26:48.214027</td>\n",
       "      <td>8317</td>\n",
       "      <td>Main</td>\n",
       "      <td>Scissors</td>\n",
       "      <td>3</td>\n",
       "      <td>False</td>\n",
       "      <td>0.609866</td>\n",
       "      <td>6</td>\n",
       "      <td>2</td>\n",
       "    </tr>\n",
       "    <tr>\n",
       "      <th>...</th>\n",
       "      <td>...</td>\n",
       "      <td>...</td>\n",
       "      <td>...</td>\n",
       "      <td>...</td>\n",
       "      <td>...</td>\n",
       "      <td>...</td>\n",
       "      <td>...</td>\n",
       "      <td>...</td>\n",
       "      <td>...</td>\n",
       "    </tr>\n",
       "    <tr>\n",
       "      <th>95</th>\n",
       "      <td>2022-09-16 16:39:37.003940</td>\n",
       "      <td>12796</td>\n",
       "      <td>Main</td>\n",
       "      <td>Scissors</td>\n",
       "      <td>3</td>\n",
       "      <td>False</td>\n",
       "      <td>1.179497</td>\n",
       "      <td>11</td>\n",
       "      <td>2</td>\n",
       "    </tr>\n",
       "    <tr>\n",
       "      <th>96</th>\n",
       "      <td>2022-09-16 16:39:37.921929</td>\n",
       "      <td>13714</td>\n",
       "      <td>Enemy</td>\n",
       "      <td>Scissors</td>\n",
       "      <td>3</td>\n",
       "      <td>False</td>\n",
       "      <td>0.917989</td>\n",
       "      <td>9</td>\n",
       "      <td>2</td>\n",
       "    </tr>\n",
       "    <tr>\n",
       "      <th>97</th>\n",
       "      <td>2022-09-16 16:39:38.789459</td>\n",
       "      <td>14581</td>\n",
       "      <td>Main</td>\n",
       "      <td>Paper</td>\n",
       "      <td>1</td>\n",
       "      <td>False</td>\n",
       "      <td>0.867530</td>\n",
       "      <td>8</td>\n",
       "      <td>1</td>\n",
       "    </tr>\n",
       "    <tr>\n",
       "      <th>98</th>\n",
       "      <td>2022-09-16 16:39:39.718474</td>\n",
       "      <td>15511</td>\n",
       "      <td>Enemy</td>\n",
       "      <td>Paper</td>\n",
       "      <td>1</td>\n",
       "      <td>False</td>\n",
       "      <td>0.929015</td>\n",
       "      <td>9</td>\n",
       "      <td>1</td>\n",
       "    </tr>\n",
       "    <tr>\n",
       "      <th>99</th>\n",
       "      <td>2022-09-16 16:39:40.876221</td>\n",
       "      <td>16668</td>\n",
       "      <td>Main</td>\n",
       "      <td>Rock</td>\n",
       "      <td>10</td>\n",
       "      <td>False</td>\n",
       "      <td>1.157747</td>\n",
       "      <td>11</td>\n",
       "      <td>0</td>\n",
       "    </tr>\n",
       "  </tbody>\n",
       "</table>\n",
       "<p>96 rows × 9 columns</p>\n",
       "</div>"
      ],
      "text/plain": [
       "                    timestamp  time_since_start player_type attack_type  \\\n",
       "1  2022-09-14 23:26:44.379765              4482       Enemy       Paper   \n",
       "2  2022-09-14 23:26:45.057001              5160        Main       Paper   \n",
       "3  2022-09-14 23:26:46.638571              6742        Main       Paper   \n",
       "4  2022-09-14 23:26:47.604161              7708       Enemy        Rock   \n",
       "5  2022-09-14 23:26:48.214027              8317        Main    Scissors   \n",
       "..                        ...               ...         ...         ...   \n",
       "95 2022-09-16 16:39:37.003940             12796        Main    Scissors   \n",
       "96 2022-09-16 16:39:37.921929             13714       Enemy    Scissors   \n",
       "97 2022-09-16 16:39:38.789459             14581        Main       Paper   \n",
       "98 2022-09-16 16:39:39.718474             15511       Enemy       Paper   \n",
       "99 2022-09-16 16:39:40.876221             16668        Main        Rock   \n",
       "\n",
       "    damage  is_counter_attack  time_diff  label_time_diff  label_attack_type  \n",
       "1        1              False   0.882663                8                  1  \n",
       "2        1              False   0.677236                6                  1  \n",
       "3        1              False   1.581570               15                  1  \n",
       "4       10              False   0.965590                9                  0  \n",
       "5        3              False   0.609866                6                  2  \n",
       "..     ...                ...        ...              ...                ...  \n",
       "95       3              False   1.179497               11                  2  \n",
       "96       3              False   0.917989                9                  2  \n",
       "97       1              False   0.867530                8                  1  \n",
       "98       1              False   0.929015                9                  1  \n",
       "99      10              False   1.157747               11                  0  \n",
       "\n",
       "[96 rows x 9 columns]"
      ]
     },
     "execution_count": 8,
     "metadata": {},
     "output_type": "execute_result"
    }
   ],
   "source": [
    "df"
   ]
  },
  {
   "cell_type": "markdown",
   "id": "1b61ec76",
   "metadata": {},
   "source": [
    "## Scikit Learn"
   ]
  },
  {
   "cell_type": "code",
   "execution_count": 9,
   "id": "ed40639b",
   "metadata": {},
   "outputs": [],
   "source": [
    "# Pegar apenas danos ao inimigo = Apenas do player\n",
    "df_only_player = df.loc[df['damaged_player'] == 'Enemy']"
   ]
  },
  {
   "cell_type": "code",
   "execution_count": 10,
   "id": "e6dbd8e5",
   "metadata": {},
   "outputs": [
    {
     "data": {
      "text/plain": [
       "array([[ 1,  8],\n",
       "       [ 0,  9],\n",
       "       [ 1, 15],\n",
       "       [ 1,  7],\n",
       "       [ 2,  8],\n",
       "       [ 1, 16],\n",
       "       [ 1,  7],\n",
       "       [ 2, 11],\n",
       "       [ 0, 14],\n",
       "       [ 1,  9],\n",
       "       [ 2, 12],\n",
       "       [ 2,  7],\n",
       "       [ 2, 15],\n",
       "       [ 2,  7],\n",
       "       [ 2,  4],\n",
       "       [ 1, 16],\n",
       "       [ 1,  7],\n",
       "       [ 1,  6],\n",
       "       [ 0,  6],\n",
       "       [ 1, 13],\n",
       "       [ 1,  7],\n",
       "       [ 1,  3],\n",
       "       [ 0, 15],\n",
       "       [ 1,  8],\n",
       "       [ 0, 10],\n",
       "       [ 0, 23],\n",
       "       [ 0, 10],\n",
       "       [ 0, 12],\n",
       "       [ 1, 14],\n",
       "       [ 0,  5],\n",
       "       [ 2,  9],\n",
       "       [ 1,  9]])"
      ]
     },
     "execution_count": 10,
     "metadata": {},
     "output_type": "execute_result"
    }
   ],
   "source": [
    "# Filtrar apenas colunas necessárias para fator X\n",
    "x_chance_contra_ataque = df_only_player.loc[:, ['label_attack_type', 'label_time_diff']].values\n",
    "x_chance_contra_ataque"
   ]
  },
  {
   "cell_type": "code",
   "execution_count": 11,
   "id": "5ee11011",
   "metadata": {},
   "outputs": [
    {
     "data": {
      "text/plain": [
       "array([False, False,  True, False, False,  True, False, False, False,\n",
       "       False,  True, False,  True, False, False,  True, False, False,\n",
       "       False,  True, False, False, False, False, False,  True, False,\n",
       "       False, False, False, False, False])"
      ]
     },
     "execution_count": 11,
     "metadata": {},
     "output_type": "execute_result"
    }
   ],
   "source": [
    "# Filtrar apenas coluna necessária para fator Y\n",
    "y_chance_contra_ataque = df_only_player.loc[:, 'is_counter_attack'].values\n",
    "y_chance_contra_ataque"
   ]
  },
  {
   "cell_type": "markdown",
   "id": "3651eed0",
   "metadata": {},
   "source": [
    "### Normalização de valores qualitativos para quantitativos"
   ]
  },
  {
   "cell_type": "code",
   "execution_count": 12,
   "id": "bc77e73f",
   "metadata": {},
   "outputs": [],
   "source": [
    "# Normalização deve ser feita para o modelo GaussianNB aceitar como input\n",
    "\n",
    "# from sklearn.preprocessing import LabelEncoder\n",
    "# label_encoder_attack_type = LabelEncoder()\n",
    "# x_chance_contra_ataque[:,0] = label_encoder_attack_type.fit_transform(x_chance_contra_ataque[:,0])"
   ]
  },
  {
   "cell_type": "markdown",
   "id": "3de03791",
   "metadata": {},
   "source": [
    "### Treinamento do modelo com algoritmo Naive Bayes"
   ]
  },
  {
   "cell_type": "code",
   "execution_count": 13,
   "id": "6e42cc61",
   "metadata": {},
   "outputs": [],
   "source": [
    "from sklearn.naive_bayes import GaussianNB"
   ]
  },
  {
   "cell_type": "code",
   "execution_count": 14,
   "id": "aeeaf925",
   "metadata": {},
   "outputs": [
    {
     "data": {
      "text/html": [
       "<style>#sk-container-id-1 {color: black;background-color: white;}#sk-container-id-1 pre{padding: 0;}#sk-container-id-1 div.sk-toggleable {background-color: white;}#sk-container-id-1 label.sk-toggleable__label {cursor: pointer;display: block;width: 100%;margin-bottom: 0;padding: 0.3em;box-sizing: border-box;text-align: center;}#sk-container-id-1 label.sk-toggleable__label-arrow:before {content: \"▸\";float: left;margin-right: 0.25em;color: #696969;}#sk-container-id-1 label.sk-toggleable__label-arrow:hover:before {color: black;}#sk-container-id-1 div.sk-estimator:hover label.sk-toggleable__label-arrow:before {color: black;}#sk-container-id-1 div.sk-toggleable__content {max-height: 0;max-width: 0;overflow: hidden;text-align: left;background-color: #f0f8ff;}#sk-container-id-1 div.sk-toggleable__content pre {margin: 0.2em;color: black;border-radius: 0.25em;background-color: #f0f8ff;}#sk-container-id-1 input.sk-toggleable__control:checked~div.sk-toggleable__content {max-height: 200px;max-width: 100%;overflow: auto;}#sk-container-id-1 input.sk-toggleable__control:checked~label.sk-toggleable__label-arrow:before {content: \"▾\";}#sk-container-id-1 div.sk-estimator input.sk-toggleable__control:checked~label.sk-toggleable__label {background-color: #d4ebff;}#sk-container-id-1 div.sk-label input.sk-toggleable__control:checked~label.sk-toggleable__label {background-color: #d4ebff;}#sk-container-id-1 input.sk-hidden--visually {border: 0;clip: rect(1px 1px 1px 1px);clip: rect(1px, 1px, 1px, 1px);height: 1px;margin: -1px;overflow: hidden;padding: 0;position: absolute;width: 1px;}#sk-container-id-1 div.sk-estimator {font-family: monospace;background-color: #f0f8ff;border: 1px dotted black;border-radius: 0.25em;box-sizing: border-box;margin-bottom: 0.5em;}#sk-container-id-1 div.sk-estimator:hover {background-color: #d4ebff;}#sk-container-id-1 div.sk-parallel-item::after {content: \"\";width: 100%;border-bottom: 1px solid gray;flex-grow: 1;}#sk-container-id-1 div.sk-label:hover label.sk-toggleable__label {background-color: #d4ebff;}#sk-container-id-1 div.sk-serial::before {content: \"\";position: absolute;border-left: 1px solid gray;box-sizing: border-box;top: 0;bottom: 0;left: 50%;z-index: 0;}#sk-container-id-1 div.sk-serial {display: flex;flex-direction: column;align-items: center;background-color: white;padding-right: 0.2em;padding-left: 0.2em;position: relative;}#sk-container-id-1 div.sk-item {position: relative;z-index: 1;}#sk-container-id-1 div.sk-parallel {display: flex;align-items: stretch;justify-content: center;background-color: white;position: relative;}#sk-container-id-1 div.sk-item::before, #sk-container-id-1 div.sk-parallel-item::before {content: \"\";position: absolute;border-left: 1px solid gray;box-sizing: border-box;top: 0;bottom: 0;left: 50%;z-index: -1;}#sk-container-id-1 div.sk-parallel-item {display: flex;flex-direction: column;z-index: 1;position: relative;background-color: white;}#sk-container-id-1 div.sk-parallel-item:first-child::after {align-self: flex-end;width: 50%;}#sk-container-id-1 div.sk-parallel-item:last-child::after {align-self: flex-start;width: 50%;}#sk-container-id-1 div.sk-parallel-item:only-child::after {width: 0;}#sk-container-id-1 div.sk-dashed-wrapped {border: 1px dashed gray;margin: 0 0.4em 0.5em 0.4em;box-sizing: border-box;padding-bottom: 0.4em;background-color: white;}#sk-container-id-1 div.sk-label label {font-family: monospace;font-weight: bold;display: inline-block;line-height: 1.2em;}#sk-container-id-1 div.sk-label-container {text-align: center;}#sk-container-id-1 div.sk-container {/* jupyter's `normalize.less` sets `[hidden] { display: none; }` but bootstrap.min.css set `[hidden] { display: none !important; }` so we also need the `!important` here to be able to override the default hidden behavior on the sphinx rendered scikit-learn.org. See: https://github.com/scikit-learn/scikit-learn/issues/21755 */display: inline-block !important;position: relative;}#sk-container-id-1 div.sk-text-repr-fallback {display: none;}</style><div id=\"sk-container-id-1\" class=\"sk-top-container\"><div class=\"sk-text-repr-fallback\"><pre>GaussianNB()</pre><b>In a Jupyter environment, please rerun this cell to show the HTML representation or trust the notebook. <br />On GitHub, the HTML representation is unable to render, please try loading this page with nbviewer.org.</b></div><div class=\"sk-container\" hidden><div class=\"sk-item\"><div class=\"sk-estimator sk-toggleable\"><input class=\"sk-toggleable__control sk-hidden--visually\" id=\"sk-estimator-id-1\" type=\"checkbox\" checked><label for=\"sk-estimator-id-1\" class=\"sk-toggleable__label sk-toggleable__label-arrow\">GaussianNB</label><div class=\"sk-toggleable__content\"><pre>GaussianNB()</pre></div></div></div></div></div>"
      ],
      "text/plain": [
       "GaussianNB()"
      ]
     },
     "execution_count": 14,
     "metadata": {},
     "output_type": "execute_result"
    }
   ],
   "source": [
    "naive_chance_contra_ataque = GaussianNB()\n",
    "naive_chance_contra_ataque.fit(x_chance_contra_ataque, y_chance_contra_ataque)"
   ]
  },
  {
   "cell_type": "markdown",
   "id": "cf94a327",
   "metadata": {},
   "source": [
    "### Previsão"
   ]
  },
  {
   "cell_type": "code",
   "execution_count": 15,
   "id": "8cba869d",
   "metadata": {},
   "outputs": [
    {
     "data": {
      "text/plain": [
       "array([False])"
      ]
     },
     "execution_count": 15,
     "metadata": {},
     "output_type": "execute_result"
    }
   ],
   "source": [
    "previsao = naive_chance_contra_ataque.predict([[0, 7]])\n",
    "previsao"
   ]
  }
 ],
 "metadata": {
  "kernelspec": {
   "display_name": "Python 3 (ipykernel)",
   "language": "python",
   "name": "python3"
  },
  "language_info": {
   "codemirror_mode": {
    "name": "ipython",
    "version": 3
   },
   "file_extension": ".py",
   "mimetype": "text/x-python",
   "name": "python",
   "nbconvert_exporter": "python",
   "pygments_lexer": "ipython3",
   "version": "3.9.5"
  }
 },
 "nbformat": 4,
 "nbformat_minor": 5
}
