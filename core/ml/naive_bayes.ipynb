{
 "cells": [
  {
   "cell_type": "markdown",
   "id": "23d995e4",
   "metadata": {},
   "source": [
    "# Estudo sobre a base do jogo Jokenpower"
   ]
  },
  {
   "cell_type": "code",
   "execution_count": 150,
   "id": "545cab49",
   "metadata": {},
   "outputs": [
    {
     "data": {
      "text/html": [
       "<div>\n",
       "<style scoped>\n",
       "    .dataframe tbody tr th:only-of-type {\n",
       "        vertical-align: middle;\n",
       "    }\n",
       "\n",
       "    .dataframe tbody tr th {\n",
       "        vertical-align: top;\n",
       "    }\n",
       "\n",
       "    .dataframe thead th {\n",
       "        text-align: right;\n",
       "    }\n",
       "</style>\n",
       "<table border=\"1\" class=\"dataframe\">\n",
       "  <thead>\n",
       "    <tr style=\"text-align: right;\">\n",
       "      <th></th>\n",
       "      <th>timestamp</th>\n",
       "      <th>time_since_start</th>\n",
       "      <th>damaged_player</th>\n",
       "      <th>attack_type</th>\n",
       "      <th>damage</th>\n",
       "      <th>is_counter_attack</th>\n",
       "    </tr>\n",
       "  </thead>\n",
       "  <tbody>\n",
       "    <tr>\n",
       "      <th>0</th>\n",
       "      <td>2023-03-21 21:52:06.619274</td>\n",
       "      <td>2630</td>\n",
       "      <td>Enemy</td>\n",
       "      <td>Rock</td>\n",
       "      <td>10</td>\n",
       "      <td>False</td>\n",
       "    </tr>\n",
       "    <tr>\n",
       "      <th>1</th>\n",
       "      <td>2023-03-21 21:52:07.946170</td>\n",
       "      <td>3956</td>\n",
       "      <td>Enemy</td>\n",
       "      <td>Paper</td>\n",
       "      <td>20</td>\n",
       "      <td>True</td>\n",
       "    </tr>\n",
       "    <tr>\n",
       "      <th>2</th>\n",
       "      <td>2023-03-21 21:52:08.667869</td>\n",
       "      <td>4678</td>\n",
       "      <td>Enemy</td>\n",
       "      <td>Paper</td>\n",
       "      <td>1</td>\n",
       "      <td>False</td>\n",
       "    </tr>\n",
       "    <tr>\n",
       "      <th>3</th>\n",
       "      <td>2023-03-21 21:52:10.803697</td>\n",
       "      <td>6814</td>\n",
       "      <td>Enemy</td>\n",
       "      <td>Rock</td>\n",
       "      <td>20</td>\n",
       "      <td>True</td>\n",
       "    </tr>\n",
       "    <tr>\n",
       "      <th>4</th>\n",
       "      <td>2023-03-21 21:52:11.836542</td>\n",
       "      <td>7847</td>\n",
       "      <td>Enemy</td>\n",
       "      <td>Rock</td>\n",
       "      <td>10</td>\n",
       "      <td>False</td>\n",
       "    </tr>\n",
       "  </tbody>\n",
       "</table>\n",
       "</div>"
      ],
      "text/plain": [
       "                    timestamp  time_since_start damaged_player attack_type  \\\n",
       "0  2023-03-21 21:52:06.619274              2630          Enemy        Rock   \n",
       "1  2023-03-21 21:52:07.946170              3956          Enemy       Paper   \n",
       "2  2023-03-21 21:52:08.667869              4678          Enemy       Paper   \n",
       "3  2023-03-21 21:52:10.803697              6814          Enemy        Rock   \n",
       "4  2023-03-21 21:52:11.836542              7847          Enemy        Rock   \n",
       "\n",
       "   damage  is_counter_attack  \n",
       "0      10              False  \n",
       "1      20               True  \n",
       "2       1              False  \n",
       "3      20               True  \n",
       "4      10              False  "
      ]
     },
     "execution_count": 150,
     "metadata": {},
     "output_type": "execute_result"
    }
   ],
   "source": [
    "import numpy as np\n",
    "import pandas as pd\n",
    "\n",
    "df = pd.read_csv('attacks_pattern.csv')\n",
    "df.head()"
   ]
  },
  {
   "cell_type": "markdown",
   "id": "f0d554d7",
   "metadata": {},
   "source": [
    "## Tratamento de dados"
   ]
  },
  {
   "cell_type": "code",
   "execution_count": 151,
   "id": "366034f0",
   "metadata": {},
   "outputs": [],
   "source": [
    "# Parsear string timestamp para Tipo Timestamp do pandas\n",
    "df['timestamp'] = pd.to_datetime(df['timestamp'], infer_datetime_format=True)"
   ]
  },
  {
   "cell_type": "code",
   "execution_count": 152,
   "id": "560a1719",
   "metadata": {},
   "outputs": [],
   "source": [
    "# Criar campo com diferença de tempo entre ataques\n",
    "df['time_diff'] = df['timestamp'].diff().dt.total_seconds()"
   ]
  },
  {
   "cell_type": "code",
   "execution_count": 153,
   "id": "a48dfe0a",
   "metadata": {
    "scrolled": true
   },
   "outputs": [],
   "source": [
    "# Definir início de partida: quando próximo time_since_start for menor que anterior\n",
    "df.loc[df['time_since_start'].diff() < 0, 'time_diff'] = np.nan"
   ]
  },
  {
   "cell_type": "code",
   "execution_count": 154,
   "id": "22c1e2bb",
   "metadata": {},
   "outputs": [],
   "source": [
    "# Deletar NaN da tabela\n",
    "df.dropna(inplace=True)"
   ]
  },
  {
   "cell_type": "code",
   "execution_count": 155,
   "id": "d8cbe41e",
   "metadata": {},
   "outputs": [],
   "source": [
    "# Normalizando diferença de tempo entre ataques\n",
    "df['label_time_diff'] = df['time_diff'].apply(lambda x: int(x*10))"
   ]
  },
  {
   "cell_type": "code",
   "execution_count": 156,
   "id": "acd9a97a",
   "metadata": {},
   "outputs": [],
   "source": [
    "# Normalizando valores qualitativos para quantitativos\n",
    "\n",
    "def get_norm_attack_type(atk: str):\n",
    "    result = 99\n",
    "    if atk == 'Rock':\n",
    "        result = 0\n",
    "    elif atk == 'Paper':\n",
    "        result = 1\n",
    "    elif atk == 'Scissors':\n",
    "        result = 2\n",
    "    return result\n",
    "\n",
    "df['label_attack_type'] = df['attack_type'].apply(get_norm_attack_type)"
   ]
  },
  {
   "cell_type": "code",
   "execution_count": 157,
   "id": "9251e075",
   "metadata": {},
   "outputs": [
    {
     "data": {
      "text/html": [
       "<div>\n",
       "<style scoped>\n",
       "    .dataframe tbody tr th:only-of-type {\n",
       "        vertical-align: middle;\n",
       "    }\n",
       "\n",
       "    .dataframe tbody tr th {\n",
       "        vertical-align: top;\n",
       "    }\n",
       "\n",
       "    .dataframe thead th {\n",
       "        text-align: right;\n",
       "    }\n",
       "</style>\n",
       "<table border=\"1\" class=\"dataframe\">\n",
       "  <thead>\n",
       "    <tr style=\"text-align: right;\">\n",
       "      <th></th>\n",
       "      <th>timestamp</th>\n",
       "      <th>time_since_start</th>\n",
       "      <th>damaged_player</th>\n",
       "      <th>attack_type</th>\n",
       "      <th>damage</th>\n",
       "      <th>is_counter_attack</th>\n",
       "      <th>time_diff</th>\n",
       "      <th>label_time_diff</th>\n",
       "      <th>label_attack_type</th>\n",
       "    </tr>\n",
       "  </thead>\n",
       "  <tbody>\n",
       "    <tr>\n",
       "      <th>1</th>\n",
       "      <td>2023-03-21 21:52:07.946170</td>\n",
       "      <td>3956</td>\n",
       "      <td>Enemy</td>\n",
       "      <td>Paper</td>\n",
       "      <td>20</td>\n",
       "      <td>True</td>\n",
       "      <td>1.326896</td>\n",
       "      <td>13</td>\n",
       "      <td>1</td>\n",
       "    </tr>\n",
       "    <tr>\n",
       "      <th>2</th>\n",
       "      <td>2023-03-21 21:52:08.667869</td>\n",
       "      <td>4678</td>\n",
       "      <td>Enemy</td>\n",
       "      <td>Paper</td>\n",
       "      <td>1</td>\n",
       "      <td>False</td>\n",
       "      <td>0.721699</td>\n",
       "      <td>7</td>\n",
       "      <td>1</td>\n",
       "    </tr>\n",
       "    <tr>\n",
       "      <th>3</th>\n",
       "      <td>2023-03-21 21:52:10.803697</td>\n",
       "      <td>6814</td>\n",
       "      <td>Enemy</td>\n",
       "      <td>Rock</td>\n",
       "      <td>20</td>\n",
       "      <td>True</td>\n",
       "      <td>2.135828</td>\n",
       "      <td>21</td>\n",
       "      <td>0</td>\n",
       "    </tr>\n",
       "    <tr>\n",
       "      <th>4</th>\n",
       "      <td>2023-03-21 21:52:11.836542</td>\n",
       "      <td>7847</td>\n",
       "      <td>Enemy</td>\n",
       "      <td>Rock</td>\n",
       "      <td>10</td>\n",
       "      <td>False</td>\n",
       "      <td>1.032845</td>\n",
       "      <td>10</td>\n",
       "      <td>0</td>\n",
       "    </tr>\n",
       "    <tr>\n",
       "      <th>5</th>\n",
       "      <td>2023-03-21 21:52:13.783248</td>\n",
       "      <td>9794</td>\n",
       "      <td>Main</td>\n",
       "      <td>Paper</td>\n",
       "      <td>1</td>\n",
       "      <td>False</td>\n",
       "      <td>1.946706</td>\n",
       "      <td>19</td>\n",
       "      <td>1</td>\n",
       "    </tr>\n",
       "  </tbody>\n",
       "</table>\n",
       "</div>"
      ],
      "text/plain": [
       "                   timestamp  time_since_start damaged_player attack_type  \\\n",
       "1 2023-03-21 21:52:07.946170              3956          Enemy       Paper   \n",
       "2 2023-03-21 21:52:08.667869              4678          Enemy       Paper   \n",
       "3 2023-03-21 21:52:10.803697              6814          Enemy        Rock   \n",
       "4 2023-03-21 21:52:11.836542              7847          Enemy        Rock   \n",
       "5 2023-03-21 21:52:13.783248              9794           Main       Paper   \n",
       "\n",
       "   damage  is_counter_attack  time_diff  label_time_diff  label_attack_type  \n",
       "1      20               True   1.326896               13                  1  \n",
       "2       1              False   0.721699                7                  1  \n",
       "3      20               True   2.135828               21                  0  \n",
       "4      10              False   1.032845               10                  0  \n",
       "5       1              False   1.946706               19                  1  "
      ]
     },
     "execution_count": 157,
     "metadata": {},
     "output_type": "execute_result"
    }
   ],
   "source": [
    "df.head()"
   ]
  },
  {
   "cell_type": "markdown",
   "id": "1b61ec76",
   "metadata": {},
   "source": [
    "## Scikit Learn"
   ]
  },
  {
   "cell_type": "code",
   "execution_count": 158,
   "id": "ed40639b",
   "metadata": {},
   "outputs": [],
   "source": [
    "# Pegar apenas danos ao inimigo = Apenas do player\n",
    "df_only_player = df.loc[df['damaged_player'] == 'Enemy'].copy()\n",
    "df_only_player.reset_index(inplace=True)"
   ]
  },
  {
   "cell_type": "code",
   "execution_count": 159,
   "id": "ebda44b5",
   "metadata": {},
   "outputs": [],
   "source": [
    "# Pegar 80% da base para usar para treinamento\n",
    "df_training = df_only_player[df_only_player.index < np.percentile(df_only_player.index, 80)]\n",
    "\n",
    "# Pegar 20% restante para validação\n",
    "df_validation = df_only_player[df_only_player.index >= np.percentile(df_only_player.index, 80)].copy()\n",
    "df_validation.reset_index(inplace=True)"
   ]
  },
  {
   "cell_type": "code",
   "execution_count": 160,
   "id": "e6dbd8e5",
   "metadata": {},
   "outputs": [],
   "source": [
    "# Filtrar apenas colunas necessárias para fator X\n",
    "x_chance_contra_ataque = df_training.loc[:, ['label_attack_type', 'label_time_diff']].values"
   ]
  },
  {
   "cell_type": "code",
   "execution_count": 161,
   "id": "5ee11011",
   "metadata": {},
   "outputs": [],
   "source": [
    "# Filtrar apenas coluna necessária para fator Y\n",
    "y_chance_contra_ataque = df_training.loc[:, 'is_counter_attack'].values"
   ]
  },
  {
   "cell_type": "markdown",
   "id": "3de03791",
   "metadata": {},
   "source": [
    "### Treinamento do modelo com algoritmo Naive Bayes"
   ]
  },
  {
   "cell_type": "code",
   "execution_count": 162,
   "id": "6e42cc61",
   "metadata": {},
   "outputs": [
    {
     "data": {
      "text/plain": [
       "GaussianNB()"
      ]
     },
     "execution_count": 162,
     "metadata": {},
     "output_type": "execute_result"
    }
   ],
   "source": [
    "from sklearn.naive_bayes import GaussianNB\n",
    "\n",
    "naive_chance_contra_ataque = GaussianNB()\n",
    "naive_chance_contra_ataque.fit(x_chance_contra_ataque, y_chance_contra_ataque)"
   ]
  },
  {
   "cell_type": "markdown",
   "id": "cf94a327",
   "metadata": {},
   "source": [
    "### Previsão"
   ]
  },
  {
   "cell_type": "code",
   "execution_count": 163,
   "id": "8cba869d",
   "metadata": {},
   "outputs": [
    {
     "data": {
      "text/plain": [
       "array([False])"
      ]
     },
     "execution_count": 163,
     "metadata": {},
     "output_type": "execute_result"
    }
   ],
   "source": [
    "# utilizando o modelo: de acordo com o input de teste, prever se irá contra-atacar\n",
    "# [[0, 7]] -> [['Rock', time_diff]]\n",
    "previsao = naive_chance_contra_ataque.predict([[0, 7]])\n",
    "previsao"
   ]
  },
  {
   "attachments": {},
   "cell_type": "markdown",
   "id": "ca9524a4",
   "metadata": {},
   "source": [
    "# Validação do Algoritmo"
   ]
  },
  {
   "cell_type": "code",
   "execution_count": 164,
   "id": "81372029",
   "metadata": {},
   "outputs": [
    {
     "data": {
      "text/html": [
       "<div>\n",
       "<style scoped>\n",
       "    .dataframe tbody tr th:only-of-type {\n",
       "        vertical-align: middle;\n",
       "    }\n",
       "\n",
       "    .dataframe tbody tr th {\n",
       "        vertical-align: top;\n",
       "    }\n",
       "\n",
       "    .dataframe thead th {\n",
       "        text-align: right;\n",
       "    }\n",
       "</style>\n",
       "<table border=\"1\" class=\"dataframe\">\n",
       "  <thead>\n",
       "    <tr style=\"text-align: right;\">\n",
       "      <th></th>\n",
       "      <th>level_0</th>\n",
       "      <th>index</th>\n",
       "      <th>timestamp</th>\n",
       "      <th>time_since_start</th>\n",
       "      <th>damaged_player</th>\n",
       "      <th>attack_type</th>\n",
       "      <th>damage</th>\n",
       "      <th>is_counter_attack</th>\n",
       "      <th>time_diff</th>\n",
       "      <th>label_time_diff</th>\n",
       "      <th>label_attack_type</th>\n",
       "      <th>nb_is_counter_attack</th>\n",
       "    </tr>\n",
       "  </thead>\n",
       "  <tbody>\n",
       "    <tr>\n",
       "      <th>0</th>\n",
       "      <td>577</td>\n",
       "      <td>840</td>\n",
       "      <td>2023-03-21 22:13:47.798101</td>\n",
       "      <td>169195</td>\n",
       "      <td>Enemy</td>\n",
       "      <td>Scissors</td>\n",
       "      <td>20</td>\n",
       "      <td>True</td>\n",
       "      <td>1.462789</td>\n",
       "      <td>14</td>\n",
       "      <td>2</td>\n",
       "      <td>True</td>\n",
       "    </tr>\n",
       "    <tr>\n",
       "      <th>1</th>\n",
       "      <td>578</td>\n",
       "      <td>841</td>\n",
       "      <td>2023-03-21 22:13:48.529459</td>\n",
       "      <td>169926</td>\n",
       "      <td>Enemy</td>\n",
       "      <td>Scissors</td>\n",
       "      <td>3</td>\n",
       "      <td>False</td>\n",
       "      <td>0.731358</td>\n",
       "      <td>7</td>\n",
       "      <td>2</td>\n",
       "      <td>False</td>\n",
       "    </tr>\n",
       "    <tr>\n",
       "      <th>2</th>\n",
       "      <td>579</td>\n",
       "      <td>843</td>\n",
       "      <td>2023-03-21 22:13:51.138592</td>\n",
       "      <td>172535</td>\n",
       "      <td>Enemy</td>\n",
       "      <td>Rock</td>\n",
       "      <td>10</td>\n",
       "      <td>False</td>\n",
       "      <td>1.047484</td>\n",
       "      <td>10</td>\n",
       "      <td>0</td>\n",
       "      <td>False</td>\n",
       "    </tr>\n",
       "    <tr>\n",
       "      <th>3</th>\n",
       "      <td>580</td>\n",
       "      <td>845</td>\n",
       "      <td>2023-03-21 22:13:53.216550</td>\n",
       "      <td>174613</td>\n",
       "      <td>Enemy</td>\n",
       "      <td>Scissors</td>\n",
       "      <td>3</td>\n",
       "      <td>False</td>\n",
       "      <td>0.884969</td>\n",
       "      <td>8</td>\n",
       "      <td>2</td>\n",
       "      <td>False</td>\n",
       "    </tr>\n",
       "    <tr>\n",
       "      <th>4</th>\n",
       "      <td>581</td>\n",
       "      <td>847</td>\n",
       "      <td>2023-03-21 22:13:55.671725</td>\n",
       "      <td>177069</td>\n",
       "      <td>Enemy</td>\n",
       "      <td>Rock</td>\n",
       "      <td>10</td>\n",
       "      <td>False</td>\n",
       "      <td>1.092209</td>\n",
       "      <td>10</td>\n",
       "      <td>0</td>\n",
       "      <td>False</td>\n",
       "    </tr>\n",
       "  </tbody>\n",
       "</table>\n",
       "</div>"
      ],
      "text/plain": [
       "   level_0  index                  timestamp  time_since_start damaged_player  \\\n",
       "0      577    840 2023-03-21 22:13:47.798101            169195          Enemy   \n",
       "1      578    841 2023-03-21 22:13:48.529459            169926          Enemy   \n",
       "2      579    843 2023-03-21 22:13:51.138592            172535          Enemy   \n",
       "3      580    845 2023-03-21 22:13:53.216550            174613          Enemy   \n",
       "4      581    847 2023-03-21 22:13:55.671725            177069          Enemy   \n",
       "\n",
       "  attack_type  damage  is_counter_attack  time_diff  label_time_diff  \\\n",
       "0    Scissors      20               True   1.462789               14   \n",
       "1    Scissors       3              False   0.731358                7   \n",
       "2        Rock      10              False   1.047484               10   \n",
       "3    Scissors       3              False   0.884969                8   \n",
       "4        Rock      10              False   1.092209               10   \n",
       "\n",
       "   label_attack_type  nb_is_counter_attack  \n",
       "0                  2                  True  \n",
       "1                  2                 False  \n",
       "2                  0                 False  \n",
       "3                  2                 False  \n",
       "4                  0                 False  "
      ]
     },
     "execution_count": 164,
     "metadata": {},
     "output_type": "execute_result"
    }
   ],
   "source": [
    "# Criando coluna de predições de contra-ataques do bot\n",
    "# Para o input no algoritmo de predição é necessário utilizar os campos parâmetro para a predição. Neste caso: ['label_attack_type', 'label_time_diff']\n",
    "parametros_para_contra_ataque = df_validation.loc[:, ['label_attack_type', 'label_time_diff']].values\n",
    "\n",
    "# Usar 'parametros_para_contra_ataque' como input no algoritmo\n",
    "nb_is_counter_attack = naive_chance_contra_ataque.predict(parametros_para_contra_ataque)\n",
    "\n",
    "# Add na tabela base\n",
    "df_validation['nb_is_counter_attack'] = nb_is_counter_attack\n",
    "df_validation.head()"
   ]
  },
  {
   "cell_type": "code",
   "execution_count": 165,
   "id": "9ea52a6e",
   "metadata": {},
   "outputs": [
    {
     "data": {
      "text/plain": [
       "True     92.413793\n",
       "False     7.586207\n",
       "Name: comparison, dtype: float64"
      ]
     },
     "execution_count": 165,
     "metadata": {},
     "output_type": "execute_result"
    }
   ],
   "source": [
    "# comparar valores iguais entre 'input do usuário' vs 'gerado pelo Naive Bayes'\n",
    "df_validation['comparison'] = df_validation['is_counter_attack'] == df_validation['nb_is_counter_attack']\n",
    "df_validation['comparison'].value_counts(normalize=True) * 100"
   ]
  }
 ],
 "metadata": {
  "kernelspec": {
   "display_name": "Python 3 (ipykernel)",
   "language": "python",
   "name": "python3"
  },
  "language_info": {
   "codemirror_mode": {
    "name": "ipython",
    "version": 3
   },
   "file_extension": ".py",
   "mimetype": "text/x-python",
   "name": "python",
   "nbconvert_exporter": "python",
   "pygments_lexer": "ipython3",
   "version": "3.7.9"
  }
 },
 "nbformat": 4,
 "nbformat_minor": 5
}
