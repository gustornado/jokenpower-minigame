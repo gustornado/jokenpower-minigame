{
 "cells": [
  {
   "attachments": {},
   "cell_type": "markdown",
   "metadata": {},
   "source": [
    "# Output CSV da aplicação"
   ]
  },
  {
   "cell_type": "code",
   "execution_count": 5,
   "metadata": {},
   "outputs": [
    {
     "data": {
      "text/html": [
       "<div>\n",
       "<style scoped>\n",
       "    .dataframe tbody tr th:only-of-type {\n",
       "        vertical-align: middle;\n",
       "    }\n",
       "\n",
       "    .dataframe tbody tr th {\n",
       "        vertical-align: top;\n",
       "    }\n",
       "\n",
       "    .dataframe thead th {\n",
       "        text-align: right;\n",
       "    }\n",
       "</style>\n",
       "<table border=\"1\" class=\"dataframe\">\n",
       "  <thead>\n",
       "    <tr style=\"text-align: right;\">\n",
       "      <th></th>\n",
       "      <th>timestamp</th>\n",
       "      <th>time_since_start</th>\n",
       "      <th>damaged_player</th>\n",
       "      <th>attack_type</th>\n",
       "      <th>damage</th>\n",
       "      <th>is_counter_attack</th>\n",
       "    </tr>\n",
       "  </thead>\n",
       "  <tbody>\n",
       "    <tr>\n",
       "      <th>0</th>\n",
       "      <td>2023-03-18 22:18:58.246426</td>\n",
       "      <td>3453</td>\n",
       "      <td>Main</td>\n",
       "      <td>Rock</td>\n",
       "      <td>10</td>\n",
       "      <td>False</td>\n",
       "    </tr>\n",
       "    <tr>\n",
       "      <th>1</th>\n",
       "      <td>2023-03-18 22:18:58.361588</td>\n",
       "      <td>3569</td>\n",
       "      <td>Enemy</td>\n",
       "      <td>Rock</td>\n",
       "      <td>10</td>\n",
       "      <td>False</td>\n",
       "    </tr>\n",
       "    <tr>\n",
       "      <th>2</th>\n",
       "      <td>2023-03-18 22:18:59.762810</td>\n",
       "      <td>4970</td>\n",
       "      <td>Main</td>\n",
       "      <td>Paper</td>\n",
       "      <td>1</td>\n",
       "      <td>False</td>\n",
       "    </tr>\n",
       "    <tr>\n",
       "      <th>3</th>\n",
       "      <td>2023-03-18 22:19:00.747199</td>\n",
       "      <td>5954</td>\n",
       "      <td>Enemy</td>\n",
       "      <td>Scissors</td>\n",
       "      <td>3</td>\n",
       "      <td>False</td>\n",
       "    </tr>\n",
       "    <tr>\n",
       "      <th>4</th>\n",
       "      <td>2023-03-18 22:19:01.854446</td>\n",
       "      <td>7061</td>\n",
       "      <td>Main</td>\n",
       "      <td>Rock</td>\n",
       "      <td>10</td>\n",
       "      <td>False</td>\n",
       "    </tr>\n",
       "  </tbody>\n",
       "</table>\n",
       "</div>"
      ],
      "text/plain": [
       "                    timestamp  time_since_start damaged_player attack_type  \\\n",
       "0  2023-03-18 22:18:58.246426              3453           Main        Rock   \n",
       "1  2023-03-18 22:18:58.361588              3569          Enemy        Rock   \n",
       "2  2023-03-18 22:18:59.762810              4970           Main       Paper   \n",
       "3  2023-03-18 22:19:00.747199              5954          Enemy    Scissors   \n",
       "4  2023-03-18 22:19:01.854446              7061           Main        Rock   \n",
       "\n",
       "   damage  is_counter_attack  \n",
       "0      10              False  \n",
       "1      10              False  \n",
       "2       1              False  \n",
       "3       3              False  \n",
       "4      10              False  "
      ]
     },
     "execution_count": 5,
     "metadata": {},
     "output_type": "execute_result"
    }
   ],
   "source": [
    "import pandas as pd\n",
    "\n",
    "f = pd.read_csv('attacks_pattern.csv')\n",
    "f.head()"
   ]
  },
  {
   "attachments": {},
   "cell_type": "markdown",
   "metadata": {},
   "source": [
    "Criar coluna de Contra-ataques cumulativamente para comparar depois"
   ]
  },
  {
   "cell_type": "code",
   "execution_count": 13,
   "metadata": {},
   "outputs": [],
   "source": [
    "f['cumulative_conter_attack'] = f['is_counter_attack'].cumsum()"
   ]
  },
  {
   "cell_type": "code",
   "execution_count": null,
   "metadata": {},
   "outputs": [],
   "source": []
  }
 ],
 "metadata": {
  "kernelspec": {
   "display_name": "env",
   "language": "python",
   "name": "python3"
  },
  "language_info": {
   "codemirror_mode": {
    "name": "ipython",
    "version": 3
   },
   "file_extension": ".py",
   "mimetype": "text/x-python",
   "name": "python",
   "nbconvert_exporter": "python",
   "pygments_lexer": "ipython3",
   "version": "3.8.2"
  },
  "orig_nbformat": 4
 },
 "nbformat": 4,
 "nbformat_minor": 2
}
